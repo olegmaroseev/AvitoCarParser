{
 "cells": [
  {
   "cell_type": "code",
   "execution_count": 47,
   "metadata": {
    "collapsed": false
   },
   "outputs": [
    {
     "data": {
      "text/plain": [
       "[('Марка: ', 'Geely'),\n",
       " ('Модель: ', 'EmgrandEC7'),\n",
       " ('Год выпуска: ', '2013'),\n",
       " ('Пробег: ', '45000'),\n",
       " ('Тип кузова: ', 'хетчбэк'),\n",
       " ('Цвет: ', 'серебряный'),\n",
       " ('Объём двигателя: ', '1.5'),\n",
       " ('Коробка передач: ', 'механика'),\n",
       " ('Тип двигателя: ', 'бензин'),\n",
       " ('Привод: ', 'передний'),\n",
       " ('Руль: ', 'левый'),\n",
       " ('Состояние: ', 'не битый'),\n",
       " ('Владельцев по ПТС: ', '1'),\n",
       " ('Мощность двигателя: ', '98..')]"
      ]
     },
     "execution_count": 47,
     "metadata": {},
     "output_type": "execute_result"
    }
   ],
   "source": [
    "from lxml import html\n",
    "import requests\n",
    "import time\n",
    "\n",
    "headers = {'User-Agent': 'Yandex/1.01.001'}\n",
    "\n",
    "page = requests.get('https://www.avito.ru/volgograd/avtomobili/geely_emgrand_ec7_2013_877004308',headers=headers)\n",
    "tree = html.fromstring(page.content)\n",
    "\n",
    "def deleteLiteralsFromNumberValues(s):\n",
    "    if s[0].isdigit():\n",
    "        return ''.join([i for i in s if i.isdigit() or i in ['.',',']])\n",
    "    else:\n",
    "        return s\n",
    "\n",
    "attributes = tree.xpath('//li[@class=\"item-params-list-item\"]/span/text()') \n",
    "values = tree.xpath('//li[@class=\"item-params-list-item\"]/text()')\n",
    "values2 = values[1::2]\n",
    "values2 = map(lambda s: deleteLiteralsFromNumberValues(s.replace('\\n', '').replace(\" \",\"\").replace(u'\\xa0',' ')), values2)\n",
    "zipList = list(zip(attributes, values2))\n",
    "zipList"
   ]
  },
  {
   "cell_type": "code",
   "execution_count": 43,
   "metadata": {
    "collapsed": false
   },
   "outputs": [
    {
     "data": {
      "text/plain": [
       "'360000'"
      ]
     },
     "execution_count": 43,
     "metadata": {},
     "output_type": "execute_result"
    }
   ],
   "source": [
    "#цена машины\n",
    "price = tree.xpath('//span[@class=\"price-value-string\"]/text()')[0]\n",
    "price = price.replace(u'\\xa0',' ').replace(u'\\u2009',' ').replace(u'\\n',' ').replace(u' ','')\n",
    "price"
   ]
  },
  {
   "cell_type": "code",
   "execution_count": 39,
   "metadata": {
    "collapsed": false
   },
   "outputs": [
    {
     "data": {
      "text/plain": [
       "['Продается автомобиль Джили Эмгрант, 2013 г.в., состояние автомобиля отличное, вложений не требует, полностью обслужен, все время эксплуатации в одних руках, есть сервисная книжка, два комплекта ключей, комплектация полная',\n",
       " '-КОНДИЦИОНЕР',\n",
       " '-АБС',\n",
       " '-ГУР',\n",
       " '-ПЭП',\n",
       " '-кожаный салон',\n",
       " '-музыка',\n",
       " 'Автомобиль можно оформить в КРЕДИТ на хороших условиях',\n",
       " 'ТОРГ, ОБМЕН',\n",
       " '______________________________________________________',\n",
       " 'осмотр ул. Азизбекова 70, Гарантия юридической чистоты']"
      ]
     },
     "execution_count": 39,
     "metadata": {},
     "output_type": "execute_result"
    }
   ],
   "source": [
    "#описание машины от пользователя\n",
    "description = tree.xpath('//div[@class=\"item-description-text\"]/p/text()') \n",
    "description"
   ]
  },
  {
   "cell_type": "code",
   "execution_count": 69,
   "metadata": {
    "collapsed": false
   },
   "outputs": [
    {
     "data": {
      "text/plain": [
       "['/moskva/avtomobili',\n",
       " '/moskovskaya_oblast/avtomobili',\n",
       " '/sankt-peterburg/avtomobili',\n",
       " '/leningradskaya_oblast/avtomobili',\n",
       " '/bashkortostan/avtomobili',\n",
       " '/belgorodskaya_oblast/avtomobili',\n",
       " '/volgogradskaya_oblast/avtomobili',\n",
       " '/voronezhskaya_oblast/avtomobili',\n",
       " '/kaliningradskaya_oblast/avtomobili',\n",
       " '/krasnodarskiy_kray/avtomobili',\n",
       " '/nizhegorodskaya_oblast/avtomobili',\n",
       " '/novosibirskaya_oblast/avtomobili',\n",
       " '/omskaya_oblast/avtomobili',\n",
       " '/permskiy_kray/avtomobili',\n",
       " '/rostovskaya_oblast/avtomobili',\n",
       " '/samarskaya_oblast/avtomobili',\n",
       " '/saratovskaya_oblast/avtomobili',\n",
       " '/sverdlovskaya_oblast/avtomobili',\n",
       " '/stavropolskiy_kray/avtomobili',\n",
       " '/tatarstan/avtomobili',\n",
       " '/tyumenskaya_oblast/avtomobili',\n",
       " '/udmurtiya/avtomobili',\n",
       " '/chelyabinskaya_oblast/avtomobili',\n",
       " '/yaroslavskaya_oblast/avtomobili']"
      ]
     },
     "execution_count": 69,
     "metadata": {},
     "output_type": "execute_result"
    }
   ],
   "source": [
    "#парсим все сслыки на географические области\n",
    "mainAvtomobPage = requests.get('https://www.avito.ru/rossiya/transport')\n",
    "tree = html.fromstring(mainAvtomobPage.content)\n",
    "\n",
    "#regions = tree.xpath('//div[@class=\"catalog-counts__more\"]/text()')[0]\n",
    "regions = tree.xpath('//a[@class=\"js-catalog-counts__link\"]')\n",
    "reg = list(map(lambda x: x.get(\"href\").replace(u\"transport\",\"avtomobili\") , regions))[5:]\n",
    "reg"
   ]
  },
  {
   "cell_type": "code",
   "execution_count": 79,
   "metadata": {
    "collapsed": false
   },
   "outputs": [
    {
     "data": {
      "text/plain": [
       "266"
      ]
     },
     "execution_count": 79,
     "metadata": {},
     "output_type": "execute_result"
    }
   ],
   "source": [
    "allMachines = requests.get('https://www.avito.ru/volgogradskaya_oblast/avtomobili')\n",
    "tree = html.fromstring(allMachines.content)\n",
    "\n",
    "regions = tree.xpath('//a[@class=\"item-description-title-link\"]')\n",
    "ak = list(map(lambda x: x.get(\"href\"), regions))\n",
    "last_page = tree.xpath('//a[@class=\"pagination-page\"]')[-1]\n",
    "last_page = last_page.get(\"href\")\n",
    "numOfIterationScrapping = int(last_page.split(\"=\")[-1])\n",
    "numOfIterationScrapping"
   ]
  },
  {
   "cell_type": "code",
   "execution_count": null,
   "metadata": {
    "collapsed": true
   },
   "outputs": [],
   "source": [
    "#/volgogradskaya_oblast/avtomobili?p=2"
   ]
  }
 ],
 "metadata": {
  "anaconda-cloud": {},
  "kernelspec": {
   "display_name": "Python [Root]",
   "language": "python",
   "name": "Python [Root]"
  },
  "language_info": {
   "codemirror_mode": {
    "name": "ipython",
    "version": 3
   },
   "file_extension": ".py",
   "mimetype": "text/x-python",
   "name": "python",
   "nbconvert_exporter": "python",
   "pygments_lexer": "ipython3",
   "version": "3.5.2"
  }
 },
 "nbformat": 4,
 "nbformat_minor": 0
}
