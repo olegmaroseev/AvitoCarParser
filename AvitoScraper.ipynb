{
 "cells": [
  {
   "cell_type": "code",
   "execution_count": 51,
   "metadata": {
    "collapsed": false
   },
   "outputs": [
    {
     "data": {
      "text/plain": [
       "[('Марка', 'Geely'),\n",
       " ('Модель', 'EmgrandEC7'),\n",
       " ('Год выпуска', '2013'),\n",
       " ('Пробег', '45000'),\n",
       " ('Тип кузова', 'хетчбэк'),\n",
       " ('Цвет', 'серебряный'),\n",
       " ('Объём двигателя', '1.5'),\n",
       " ('Коробка передач', 'механика'),\n",
       " ('Тип двигателя', 'бензин'),\n",
       " ('Привод', 'передний'),\n",
       " ('Руль', 'левый'),\n",
       " ('Состояние', 'не битый'),\n",
       " ('Владельцев по ПТС', '1'),\n",
       " ('Мощность двигателя', '98..'),\n",
       " ('Описание пользователя',\n",
       "  'Продается автомобиль Джили Эмгрант, 2013 г.в., состояние автомобиля отличное, вложений не требует, полностью обслужен, все время эксплуатации в одних руках, есть сервисная книжка, два комплекта ключей, комплектация полная -КОНДИЦИОНЕР -АБС -ГУР -ПЭП -кожаный салон -музыка Автомобиль можно оформить в КРЕДИТ на хороших условиях ТОРГ, ОБМЕН ______________________________________________________ осмотр ул. Азизбекова 70, Гарантия юридической чистоты'),\n",
       " ('Цена', '360000')]"
      ]
     },
     "execution_count": 51,
     "metadata": {},
     "output_type": "execute_result"
    }
   ],
   "source": [
    "#https://www.avito.ru/rossiya/avtomobili\n",
    "from lxml import html\n",
    "import requests\n",
    "import time\n",
    "import pandas as pd\n",
    "\n",
    "headers = {'User-Agent': 'Yandex/1.01.001'}\n",
    "\n",
    "#удаление символов из строки\n",
    "def deleteLiteralsFromNumberValues(s):\n",
    "    if s[0].isdigit():\n",
    "        return ''.join([i for i in s if i.isdigit() or i in ['.',',']])\n",
    "    else:\n",
    "        return s\n",
    "#удаление символов из строки\n",
    "\n",
    "def getListOfFeatures(link):\n",
    "    page = requests.get(link,headers=headers)\n",
    "    tree = html.fromstring(page.content)\n",
    "\n",
    "    #цена машины\n",
    "    price = tree.xpath('//span[@class=\"price-value-string\"]/text()')\n",
    "    if len(price) > 0 :\n",
    "        price = price[0]\n",
    "    else:\n",
    "        price = '0'\n",
    "    price = price.replace(u'\\xa0',' ').replace(u'\\u2009',' ').replace(u'\\n',' ').replace(u' ','')\n",
    "    #цена машины\n",
    "\n",
    "    #описание машины от пользователя\n",
    "    description = tree.xpath('//div[@class=\"item-description-text\"]/p/text()') \n",
    "    #описание машины от пользователя\n",
    "\n",
    "    attributes = tree.xpath('//li[@class=\"item-params-list-item\"]/span/text()') \n",
    "    attributes = map(lambda s: s.split(\":\")[0] , attributes)\n",
    "    values = tree.xpath('//li[@class=\"item-params-list-item\"]/text()')\n",
    "    values2 = values[1::2]\n",
    "    values2 = map(lambda s: deleteLiteralsFromNumberValues(s.replace('\\n', '').replace(\" \",\"\").replace(u'\\xa0',' ')), values2)\n",
    "    zipList = list(zip(attributes, values2))\n",
    "    zipList.append(('Описание пользователя', ' '.join(description)) )\n",
    "    zipList.append(('Цена', str(price) ))\n",
    "    \n",
    "    return zipList\n",
    "\n",
    "firstLink = 'https://www.avito.ru/volgograd/avtomobili/geely_emgrand_ec7_2013_877004308'\n",
    "zL = getListOfFeatures(firstLink)\n",
    "zL"
   ]
  },
  {
   "cell_type": "code",
   "execution_count": 52,
   "metadata": {
    "collapsed": false
   },
   "outputs": [
    {
     "data": {
      "text/html": [
       "<div>\n",
       "<table border=\"1\" class=\"dataframe\">\n",
       "  <thead>\n",
       "    <tr style=\"text-align: right;\">\n",
       "      <th></th>\n",
       "      <th>Марка</th>\n",
       "      <th>Модель</th>\n",
       "      <th>Год выпуска</th>\n",
       "      <th>Пробег</th>\n",
       "      <th>Тип кузова</th>\n",
       "      <th>Цвет</th>\n",
       "      <th>Объём двигателя</th>\n",
       "      <th>Коробка передач</th>\n",
       "      <th>Тип двигателя</th>\n",
       "      <th>Привод</th>\n",
       "      <th>Руль</th>\n",
       "      <th>Состояние</th>\n",
       "      <th>Владельцев по ПТС</th>\n",
       "      <th>Мощность двигателя</th>\n",
       "      <th>Описание пользователя</th>\n",
       "      <th>Цена</th>\n",
       "    </tr>\n",
       "  </thead>\n",
       "  <tbody>\n",
       "    <tr>\n",
       "      <th>0</th>\n",
       "      <td>Geely</td>\n",
       "      <td>EmgrandEC7</td>\n",
       "      <td>2013</td>\n",
       "      <td>45000</td>\n",
       "      <td>хетчбэк</td>\n",
       "      <td>серебряный</td>\n",
       "      <td>1.5</td>\n",
       "      <td>механика</td>\n",
       "      <td>бензин</td>\n",
       "      <td>передний</td>\n",
       "      <td>левый</td>\n",
       "      <td>не битый</td>\n",
       "      <td>1</td>\n",
       "      <td>98..</td>\n",
       "      <td>Продается автомобиль Джили Эмгрант, 2013 г.в.,...</td>\n",
       "      <td>360000</td>\n",
       "    </tr>\n",
       "  </tbody>\n",
       "</table>\n",
       "</div>"
      ],
      "text/plain": [
       "   Марка      Модель Год выпуска Пробег Тип кузова        Цвет  \\\n",
       "0  Geely  EmgrandEC7        2013  45000    хетчбэк  серебряный   \n",
       "\n",
       "  Объём двигателя Коробка передач Тип двигателя    Привод   Руль Состояние  \\\n",
       "0             1.5        механика        бензин  передний  левый  не битый   \n",
       "\n",
       "  Владельцев по ПТС Мощность двигателя  \\\n",
       "0                 1               98..   \n",
       "\n",
       "                               Описание пользователя    Цена  \n",
       "0  Продается автомобиль Джили Эмгрант, 2013 г.в.,...  360000  "
      ]
     },
     "execution_count": 52,
     "metadata": {},
     "output_type": "execute_result"
    }
   ],
   "source": [
    "CarBase = pd.DataFrame(columns=([ a for a,b in zipList ]))\n",
    "CarBase.loc[0] = [ b for a,b in zipList ]\n",
    "CarBase"
   ]
  },
  {
   "cell_type": "code",
   "execution_count": 53,
   "metadata": {
    "collapsed": false
   },
   "outputs": [
    {
     "ename": "IndexError",
     "evalue": "string index out of range",
     "output_type": "error",
     "traceback": [
      "\u001b[1;31m---------------------------------------------------------------------------\u001b[0m",
      "\u001b[1;31mIndexError\u001b[0m                                Traceback (most recent call last)",
      "\u001b[1;32m<ipython-input-53-5b162d856b56>\u001b[0m in \u001b[0;36m<module>\u001b[1;34m()\u001b[0m\n\u001b[0;32m      5\u001b[0m     \u001b[0mlinks\u001b[0m \u001b[1;33m=\u001b[0m \u001b[0mlist\u001b[0m\u001b[1;33m(\u001b[0m\u001b[0mmap\u001b[0m\u001b[1;33m(\u001b[0m\u001b[1;32mlambda\u001b[0m \u001b[0mx\u001b[0m\u001b[1;33m:\u001b[0m \u001b[0mx\u001b[0m\u001b[1;33m.\u001b[0m\u001b[0mget\u001b[0m\u001b[1;33m(\u001b[0m\u001b[1;34m\"href\"\u001b[0m\u001b[1;33m)\u001b[0m\u001b[1;33m,\u001b[0m  \u001b[0mallCarsOnPage\u001b[0m\u001b[1;33m)\u001b[0m\u001b[1;33m)\u001b[0m\u001b[1;33m\u001b[0m\u001b[0m\n\u001b[0;32m      6\u001b[0m     \u001b[1;32mfor\u001b[0m \u001b[0ml\u001b[0m \u001b[1;32min\u001b[0m \u001b[0mrange\u001b[0m\u001b[1;33m(\u001b[0m\u001b[0mlen\u001b[0m\u001b[1;33m(\u001b[0m\u001b[0mlinks\u001b[0m\u001b[1;33m)\u001b[0m\u001b[1;33m)\u001b[0m\u001b[1;33m:\u001b[0m\u001b[1;33m\u001b[0m\u001b[0m\n\u001b[1;32m----> 7\u001b[1;33m         \u001b[0mzL\u001b[0m \u001b[1;33m=\u001b[0m \u001b[0mgetListOfFeatures\u001b[0m\u001b[1;33m(\u001b[0m\u001b[1;34m'https://www.avito.ru'\u001b[0m \u001b[1;33m+\u001b[0m \u001b[0mlinks\u001b[0m\u001b[1;33m[\u001b[0m\u001b[0ml\u001b[0m\u001b[1;33m]\u001b[0m\u001b[1;33m)\u001b[0m\u001b[1;33m\u001b[0m\u001b[0m\n\u001b[0m\u001b[0;32m      8\u001b[0m         \u001b[0mCarBaseTemp\u001b[0m \u001b[1;33m=\u001b[0m \u001b[0mpd\u001b[0m\u001b[1;33m.\u001b[0m\u001b[0mDataFrame\u001b[0m\u001b[1;33m(\u001b[0m\u001b[0mcolumns\u001b[0m\u001b[1;33m=\u001b[0m\u001b[1;33m(\u001b[0m\u001b[1;33m[\u001b[0m \u001b[0ma\u001b[0m \u001b[1;32mfor\u001b[0m \u001b[0ma\u001b[0m\u001b[1;33m,\u001b[0m\u001b[0mb\u001b[0m \u001b[1;32min\u001b[0m \u001b[0mzL\u001b[0m \u001b[1;33m]\u001b[0m\u001b[1;33m)\u001b[0m\u001b[1;33m)\u001b[0m\u001b[1;33m\u001b[0m\u001b[0m\n\u001b[0;32m      9\u001b[0m         \u001b[0mCarBaseTemp\u001b[0m\u001b[1;33m.\u001b[0m\u001b[0mloc\u001b[0m\u001b[1;33m[\u001b[0m\u001b[1;36m0\u001b[0m\u001b[1;33m]\u001b[0m \u001b[1;33m=\u001b[0m \u001b[1;33m[\u001b[0m \u001b[0mb\u001b[0m \u001b[1;32mfor\u001b[0m \u001b[0ma\u001b[0m\u001b[1;33m,\u001b[0m\u001b[0mb\u001b[0m \u001b[1;32min\u001b[0m \u001b[0mzL\u001b[0m \u001b[1;33m]\u001b[0m\u001b[1;33m\u001b[0m\u001b[0m\n",
      "\u001b[1;32m<ipython-input-51-b65d27de593c>\u001b[0m in \u001b[0;36mgetListOfFeatures\u001b[1;34m(link)\u001b[0m\n\u001b[0;32m     37\u001b[0m     \u001b[0mvalues2\u001b[0m \u001b[1;33m=\u001b[0m \u001b[0mvalues\u001b[0m\u001b[1;33m[\u001b[0m\u001b[1;36m1\u001b[0m\u001b[1;33m:\u001b[0m\u001b[1;33m:\u001b[0m\u001b[1;36m2\u001b[0m\u001b[1;33m]\u001b[0m\u001b[1;33m\u001b[0m\u001b[0m\n\u001b[0;32m     38\u001b[0m     \u001b[0mvalues2\u001b[0m \u001b[1;33m=\u001b[0m \u001b[0mmap\u001b[0m\u001b[1;33m(\u001b[0m\u001b[1;32mlambda\u001b[0m \u001b[0ms\u001b[0m\u001b[1;33m:\u001b[0m \u001b[0mdeleteLiteralsFromNumberValues\u001b[0m\u001b[1;33m(\u001b[0m\u001b[0ms\u001b[0m\u001b[1;33m.\u001b[0m\u001b[0mreplace\u001b[0m\u001b[1;33m(\u001b[0m\u001b[1;34m'\\n'\u001b[0m\u001b[1;33m,\u001b[0m \u001b[1;34m''\u001b[0m\u001b[1;33m)\u001b[0m\u001b[1;33m.\u001b[0m\u001b[0mreplace\u001b[0m\u001b[1;33m(\u001b[0m\u001b[1;34m\" \"\u001b[0m\u001b[1;33m,\u001b[0m\u001b[1;34m\"\"\u001b[0m\u001b[1;33m)\u001b[0m\u001b[1;33m.\u001b[0m\u001b[0mreplace\u001b[0m\u001b[1;33m(\u001b[0m\u001b[1;34mu'\\xa0'\u001b[0m\u001b[1;33m,\u001b[0m\u001b[1;34m' '\u001b[0m\u001b[1;33m)\u001b[0m\u001b[1;33m)\u001b[0m\u001b[1;33m,\u001b[0m \u001b[0mvalues2\u001b[0m\u001b[1;33m)\u001b[0m\u001b[1;33m\u001b[0m\u001b[0m\n\u001b[1;32m---> 39\u001b[1;33m     \u001b[0mzipList\u001b[0m \u001b[1;33m=\u001b[0m \u001b[0mlist\u001b[0m\u001b[1;33m(\u001b[0m\u001b[0mzip\u001b[0m\u001b[1;33m(\u001b[0m\u001b[0mattributes\u001b[0m\u001b[1;33m,\u001b[0m \u001b[0mvalues2\u001b[0m\u001b[1;33m)\u001b[0m\u001b[1;33m)\u001b[0m\u001b[1;33m\u001b[0m\u001b[0m\n\u001b[0m\u001b[0;32m     40\u001b[0m     \u001b[0mzipList\u001b[0m\u001b[1;33m.\u001b[0m\u001b[0mappend\u001b[0m\u001b[1;33m(\u001b[0m\u001b[1;33m(\u001b[0m\u001b[1;34m'Описание пользователя'\u001b[0m\u001b[1;33m,\u001b[0m \u001b[1;34m' '\u001b[0m\u001b[1;33m.\u001b[0m\u001b[0mjoin\u001b[0m\u001b[1;33m(\u001b[0m\u001b[0mdescription\u001b[0m\u001b[1;33m)\u001b[0m\u001b[1;33m)\u001b[0m \u001b[1;33m)\u001b[0m\u001b[1;33m\u001b[0m\u001b[0m\n\u001b[0;32m     41\u001b[0m     \u001b[0mzipList\u001b[0m\u001b[1;33m.\u001b[0m\u001b[0mappend\u001b[0m\u001b[1;33m(\u001b[0m\u001b[1;33m(\u001b[0m\u001b[1;34m'Цена'\u001b[0m\u001b[1;33m,\u001b[0m \u001b[0mstr\u001b[0m\u001b[1;33m(\u001b[0m\u001b[0mprice\u001b[0m\u001b[1;33m)\u001b[0m \u001b[1;33m)\u001b[0m\u001b[1;33m)\u001b[0m\u001b[1;33m\u001b[0m\u001b[0m\n",
      "\u001b[1;32m<ipython-input-51-b65d27de593c>\u001b[0m in \u001b[0;36m<lambda>\u001b[1;34m(s)\u001b[0m\n\u001b[0;32m     36\u001b[0m     \u001b[0mvalues\u001b[0m \u001b[1;33m=\u001b[0m \u001b[0mtree\u001b[0m\u001b[1;33m.\u001b[0m\u001b[0mxpath\u001b[0m\u001b[1;33m(\u001b[0m\u001b[1;34m'//li[@class=\"item-params-list-item\"]/text()'\u001b[0m\u001b[1;33m)\u001b[0m\u001b[1;33m\u001b[0m\u001b[0m\n\u001b[0;32m     37\u001b[0m     \u001b[0mvalues2\u001b[0m \u001b[1;33m=\u001b[0m \u001b[0mvalues\u001b[0m\u001b[1;33m[\u001b[0m\u001b[1;36m1\u001b[0m\u001b[1;33m:\u001b[0m\u001b[1;33m:\u001b[0m\u001b[1;36m2\u001b[0m\u001b[1;33m]\u001b[0m\u001b[1;33m\u001b[0m\u001b[0m\n\u001b[1;32m---> 38\u001b[1;33m     \u001b[0mvalues2\u001b[0m \u001b[1;33m=\u001b[0m \u001b[0mmap\u001b[0m\u001b[1;33m(\u001b[0m\u001b[1;32mlambda\u001b[0m \u001b[0ms\u001b[0m\u001b[1;33m:\u001b[0m \u001b[0mdeleteLiteralsFromNumberValues\u001b[0m\u001b[1;33m(\u001b[0m\u001b[0ms\u001b[0m\u001b[1;33m.\u001b[0m\u001b[0mreplace\u001b[0m\u001b[1;33m(\u001b[0m\u001b[1;34m'\\n'\u001b[0m\u001b[1;33m,\u001b[0m \u001b[1;34m''\u001b[0m\u001b[1;33m)\u001b[0m\u001b[1;33m.\u001b[0m\u001b[0mreplace\u001b[0m\u001b[1;33m(\u001b[0m\u001b[1;34m\" \"\u001b[0m\u001b[1;33m,\u001b[0m\u001b[1;34m\"\"\u001b[0m\u001b[1;33m)\u001b[0m\u001b[1;33m.\u001b[0m\u001b[0mreplace\u001b[0m\u001b[1;33m(\u001b[0m\u001b[1;34mu'\\xa0'\u001b[0m\u001b[1;33m,\u001b[0m\u001b[1;34m' '\u001b[0m\u001b[1;33m)\u001b[0m\u001b[1;33m)\u001b[0m\u001b[1;33m,\u001b[0m \u001b[0mvalues2\u001b[0m\u001b[1;33m)\u001b[0m\u001b[1;33m\u001b[0m\u001b[0m\n\u001b[0m\u001b[0;32m     39\u001b[0m     \u001b[0mzipList\u001b[0m \u001b[1;33m=\u001b[0m \u001b[0mlist\u001b[0m\u001b[1;33m(\u001b[0m\u001b[0mzip\u001b[0m\u001b[1;33m(\u001b[0m\u001b[0mattributes\u001b[0m\u001b[1;33m,\u001b[0m \u001b[0mvalues2\u001b[0m\u001b[1;33m)\u001b[0m\u001b[1;33m)\u001b[0m\u001b[1;33m\u001b[0m\u001b[0m\n\u001b[0;32m     40\u001b[0m     \u001b[0mzipList\u001b[0m\u001b[1;33m.\u001b[0m\u001b[0mappend\u001b[0m\u001b[1;33m(\u001b[0m\u001b[1;33m(\u001b[0m\u001b[1;34m'Описание пользователя'\u001b[0m\u001b[1;33m,\u001b[0m \u001b[1;34m' '\u001b[0m\u001b[1;33m.\u001b[0m\u001b[0mjoin\u001b[0m\u001b[1;33m(\u001b[0m\u001b[0mdescription\u001b[0m\u001b[1;33m)\u001b[0m\u001b[1;33m)\u001b[0m \u001b[1;33m)\u001b[0m\u001b[1;33m\u001b[0m\u001b[0m\n",
      "\u001b[1;32m<ipython-input-51-b65d27de593c>\u001b[0m in \u001b[0;36mdeleteLiteralsFromNumberValues\u001b[1;34m(s)\u001b[0m\n\u001b[0;32m      9\u001b[0m \u001b[1;31m#удаление символов из строки\u001b[0m\u001b[1;33m\u001b[0m\u001b[1;33m\u001b[0m\u001b[0m\n\u001b[0;32m     10\u001b[0m \u001b[1;32mdef\u001b[0m \u001b[0mdeleteLiteralsFromNumberValues\u001b[0m\u001b[1;33m(\u001b[0m\u001b[0ms\u001b[0m\u001b[1;33m)\u001b[0m\u001b[1;33m:\u001b[0m\u001b[1;33m\u001b[0m\u001b[0m\n\u001b[1;32m---> 11\u001b[1;33m     \u001b[1;32mif\u001b[0m \u001b[0ms\u001b[0m\u001b[1;33m[\u001b[0m\u001b[1;36m0\u001b[0m\u001b[1;33m]\u001b[0m\u001b[1;33m.\u001b[0m\u001b[0misdigit\u001b[0m\u001b[1;33m(\u001b[0m\u001b[1;33m)\u001b[0m\u001b[1;33m:\u001b[0m\u001b[1;33m\u001b[0m\u001b[0m\n\u001b[0m\u001b[0;32m     12\u001b[0m         \u001b[1;32mreturn\u001b[0m \u001b[1;34m''\u001b[0m\u001b[1;33m.\u001b[0m\u001b[0mjoin\u001b[0m\u001b[1;33m(\u001b[0m\u001b[1;33m[\u001b[0m\u001b[0mi\u001b[0m \u001b[1;32mfor\u001b[0m \u001b[0mi\u001b[0m \u001b[1;32min\u001b[0m \u001b[0ms\u001b[0m \u001b[1;32mif\u001b[0m \u001b[0mi\u001b[0m\u001b[1;33m.\u001b[0m\u001b[0misdigit\u001b[0m\u001b[1;33m(\u001b[0m\u001b[1;33m)\u001b[0m \u001b[1;32mor\u001b[0m \u001b[0mi\u001b[0m \u001b[1;32min\u001b[0m \u001b[1;33m[\u001b[0m\u001b[1;34m'.'\u001b[0m\u001b[1;33m,\u001b[0m\u001b[1;34m','\u001b[0m\u001b[1;33m]\u001b[0m\u001b[1;33m]\u001b[0m\u001b[1;33m)\u001b[0m\u001b[1;33m\u001b[0m\u001b[0m\n\u001b[0;32m     13\u001b[0m     \u001b[1;32melse\u001b[0m\u001b[1;33m:\u001b[0m\u001b[1;33m\u001b[0m\u001b[0m\n",
      "\u001b[1;31mIndexError\u001b[0m: string index out of range"
     ]
    }
   ],
   "source": [
    "for i in range(1):\n",
    "    page = requests.get('https://www.avito.ru/rossiya/avtomobili?p=' + str(i+1))\n",
    "    tree = html.fromstring(page.content)\n",
    "    allCarsOnPage = tree.xpath('//a[@class=\"item-description-title-link\"]')\n",
    "    links = list(map(lambda x: x.get(\"href\"),  allCarsOnPage))\n",
    "    for l in range(len(links)):\n",
    "        zL = getListOfFeatures('https://www.avito.ru' + links[l])\n",
    "        CarBaseTemp = pd.DataFrame(columns=([ a for a,b in zL ]))\n",
    "        CarBaseTemp.loc[0] = [ b for a,b in zL ]\n",
    "        CarBase =  CarBase.append(CarBaseTemp, ignore_index=True)\n",
    "        \n",
    "CarBase"
   ]
  },
  {
   "cell_type": "code",
   "execution_count": 16,
   "metadata": {
    "collapsed": false
   },
   "outputs": [
    {
     "data": {
      "text/plain": [
       "['/moskva/avtomobili',\n",
       " '/moskovskaya_oblast/avtomobili',\n",
       " '/sankt-peterburg/avtomobili',\n",
       " '/leningradskaya_oblast/avtomobili',\n",
       " '/bashkortostan/avtomobili',\n",
       " '/belgorodskaya_oblast/avtomobili',\n",
       " '/volgogradskaya_oblast/avtomobili',\n",
       " '/voronezhskaya_oblast/avtomobili',\n",
       " '/kaliningradskaya_oblast/avtomobili',\n",
       " '/krasnodarskiy_kray/avtomobili',\n",
       " '/nizhegorodskaya_oblast/avtomobili',\n",
       " '/novosibirskaya_oblast/avtomobili',\n",
       " '/omskaya_oblast/avtomobili',\n",
       " '/permskiy_kray/avtomobili',\n",
       " '/rostovskaya_oblast/avtomobili',\n",
       " '/samarskaya_oblast/avtomobili',\n",
       " '/saratovskaya_oblast/avtomobili',\n",
       " '/sverdlovskaya_oblast/avtomobili',\n",
       " '/stavropolskiy_kray/avtomobili',\n",
       " '/tatarstan/avtomobili',\n",
       " '/tyumenskaya_oblast/avtomobili',\n",
       " '/udmurtiya/avtomobili',\n",
       " '/chelyabinskaya_oblast/avtomobili',\n",
       " '/yaroslavskaya_oblast/avtomobili']"
      ]
     },
     "execution_count": 16,
     "metadata": {},
     "output_type": "execute_result"
    }
   ],
   "source": [
    "#парсим все ссылки на географические области\n",
    "mainAvtomobPage = requests.get('https://www.avito.ru/rossiya/transport')\n",
    "tree = html.fromstring(mainAvtomobPage.content)\n",
    "\n",
    "#regions = tree.xpath('//div[@class=\"catalog-counts__more\"]/text()')[0]\n",
    "regions = tree.xpath('//a[@class=\"js-catalog-counts__link\"]')\n",
    "reg = list(map(lambda x: x.get(\"href\").replace(u\"transport\",\"avtomobili\") , regions))[5:]\n",
    "reg"
   ]
  },
  {
   "cell_type": "code",
   "execution_count": 79,
   "metadata": {
    "collapsed": false
   },
   "outputs": [
    {
     "data": {
      "text/plain": [
       "266"
      ]
     },
     "execution_count": 79,
     "metadata": {},
     "output_type": "execute_result"
    }
   ],
   "source": [
    "allMachines = requests.get('https://www.avito.ru/volgogradskaya_oblast/avtomobili')\n",
    "tree = html.fromstring(allMachines.content)\n",
    "\n",
    "regions = tree.xpath('//a[@class=\"item-description-title-link\"]')\n",
    "ak = list(map(lambda x: x.get(\"href\"), regions))\n",
    "last_page = tree.xpath('//a[@class=\"pagination-page\"]')[-1]\n",
    "last_page = last_page.get(\"href\")\n",
    "numOfIterationScrapping = int(last_page.split(\"=\")[-1])\n",
    "numOfIterationScrapping"
   ]
  },
  {
   "cell_type": "code",
   "execution_count": 21,
   "metadata": {
    "collapsed": false
   },
   "outputs": [],
   "source": [
    "#/volgogradskaya_oblast/avtomobili?p=2\n",
    "\n",
    "CarBase = pd.DataFrame(columns=([ a for a,b in zipList ]))\n",
    "CarBase.loc[0] = [ b for a,b in zipList ]"
   ]
  },
  {
   "cell_type": "code",
   "execution_count": 22,
   "metadata": {
    "collapsed": false
   },
   "outputs": [
    {
     "data": {
      "text/html": [
       "<div>\n",
       "<table border=\"1\" class=\"dataframe\">\n",
       "  <thead>\n",
       "    <tr style=\"text-align: right;\">\n",
       "      <th></th>\n",
       "      <th>Марка</th>\n",
       "      <th>Модель</th>\n",
       "      <th>Год выпуска</th>\n",
       "      <th>Пробег</th>\n",
       "      <th>Тип кузова</th>\n",
       "      <th>Цвет</th>\n",
       "      <th>Объём двигателя</th>\n",
       "      <th>Коробка передач</th>\n",
       "      <th>Тип двигателя</th>\n",
       "      <th>Привод</th>\n",
       "      <th>Руль</th>\n",
       "      <th>Состояние</th>\n",
       "      <th>Владельцев по ПТС</th>\n",
       "      <th>Мощность двигателя</th>\n",
       "      <th>Описание пользователя</th>\n",
       "      <th>Цена</th>\n",
       "    </tr>\n",
       "  </thead>\n",
       "  <tbody>\n",
       "    <tr>\n",
       "      <th>0</th>\n",
       "      <td>Geely</td>\n",
       "      <td>EmgrandEC7</td>\n",
       "      <td>2013</td>\n",
       "      <td>45000</td>\n",
       "      <td>хетчбэк</td>\n",
       "      <td>серебряный</td>\n",
       "      <td>1.5</td>\n",
       "      <td>механика</td>\n",
       "      <td>бензин</td>\n",
       "      <td>передний</td>\n",
       "      <td>левый</td>\n",
       "      <td>не битый</td>\n",
       "      <td>1</td>\n",
       "      <td>98..</td>\n",
       "      <td>Продается автомобиль Джили Эмгрант, 2013 г.в.,...</td>\n",
       "      <td>360000</td>\n",
       "    </tr>\n",
       "  </tbody>\n",
       "</table>\n",
       "</div>"
      ],
      "text/plain": [
       "   Марка      Модель Год выпуска Пробег Тип кузова        Цвет  \\\n",
       "0  Geely  EmgrandEC7        2013  45000    хетчбэк  серебряный   \n",
       "\n",
       "  Объём двигателя Коробка передач Тип двигателя    Привод   Руль Состояние  \\\n",
       "0             1.5        механика        бензин  передний  левый  не битый   \n",
       "\n",
       "  Владельцев по ПТС Мощность двигателя  \\\n",
       "0                 1               98..   \n",
       "\n",
       "                               Описание пользователя    Цена  \n",
       "0  Продается автомобиль Джили Эмгрант, 2013 г.в.,...  360000  "
      ]
     },
     "execution_count": 22,
     "metadata": {},
     "output_type": "execute_result"
    }
   ],
   "source": [
    "CarBase"
   ]
  },
  {
   "cell_type": "code",
   "execution_count": 9,
   "metadata": {
    "collapsed": false
   },
   "outputs": [
    {
     "data": {
      "text/plain": [
       "'5'"
      ]
     },
     "execution_count": 9,
     "metadata": {},
     "output_type": "execute_result"
    }
   ],
   "source": [
    "str(5)"
   ]
  },
  {
   "cell_type": "code",
   "execution_count": 23,
   "metadata": {
    "collapsed": false
   },
   "outputs": [
    {
     "data": {
      "text/plain": [
       "[('Марка', 'Volkswagen'),\n",
       " ('Модель', 'Touareg'),\n",
       " ('Год выпуска', '2012'),\n",
       " ('Пробег', '70000'),\n",
       " ('Тип кузова', 'внедорожник'),\n",
       " ('Цвет', 'белый'),\n",
       " ('Объём двигателя', '3.6'),\n",
       " ('Количество дверей', '5'),\n",
       " ('Коробка передач', 'автомат'),\n",
       " ('Тип двигателя', 'бензин'),\n",
       " ('Привод', 'полный'),\n",
       " ('Руль', 'левый'),\n",
       " ('Состояние', 'не битый'),\n",
       " ('Владельцев по ПТС', '1'),\n",
       " ('Мощность двигателя', '249..'),\n",
       " ('Описание пользователя',\n",
       "  'Не бит, не крашен. Один хозяин. Обслуживался у ОД (вся история в сервисной книжке). Пневмоподвеска. Зимняя, летняя резина на дисках. Бампер, капот в пленке. Продажа с номерами.'),\n",
       " ('Цена', '1770000')]"
      ]
     },
     "execution_count": 23,
     "metadata": {},
     "output_type": "execute_result"
    }
   ],
   "source": [
    "page = requests.get('https://www.avito.ru/yoshkar-ola/avtomobili/volkswagen_touareg_2012_827824885',headers=headers)\n",
    "tree = html.fromstring(page.content)\n",
    "\n",
    "#удаление символов из строки\n",
    "def deleteLiteralsFromNumberValues(s):\n",
    "    if s[0].isdigit():\n",
    "        return ''.join([i for i in s if i.isdigit() or i in ['.',',']])\n",
    "    else:\n",
    "        return s\n",
    "#удаление символов из строки\n",
    "\n",
    "#цена машины\n",
    "price = tree.xpath('//span[@class=\"price-value-string\"]/text()')[0]\n",
    "price = price.replace(u'\\xa0',' ').replace(u'\\u2009',' ').replace(u'\\n',' ').replace(u' ','')\n",
    "#цена машины\n",
    "\n",
    "#описание машины от пользователя\n",
    "description = tree.xpath('//div[@class=\"item-description-text\"]/p/text()') \n",
    "#описание машины от пользователя\n",
    "\n",
    "attributes = tree.xpath('//li[@class=\"item-params-list-item\"]/span/text()') \n",
    "attributes = map(lambda s: s.split(\":\")[0] , attributes)\n",
    "values = tree.xpath('//li[@class=\"item-params-list-item\"]/text()')\n",
    "values2 = values[1::2]\n",
    "values2 = map(lambda s: deleteLiteralsFromNumberValues(s.replace('\\n', '').replace(\" \",\"\").replace(u'\\xa0',' ')), values2)\n",
    "zipList = list(zip(attributes, values2))\n",
    "zipList.append(('Описание пользователя', ' '.join(description)) )\n",
    "zipList.append(('Цена', str(price) ))\n",
    "zipList"
   ]
  },
  {
   "cell_type": "code",
   "execution_count": 24,
   "metadata": {
    "collapsed": true
   },
   "outputs": [],
   "source": [
    "CarBase2 = pd.DataFrame(columns=([ a for a,b in zipList ]))\n",
    "CarBase2.loc[0] = [ b for a,b in zipList ]"
   ]
  },
  {
   "cell_type": "code",
   "execution_count": 25,
   "metadata": {
    "collapsed": false
   },
   "outputs": [
    {
     "data": {
      "text/html": [
       "<div>\n",
       "<table border=\"1\" class=\"dataframe\">\n",
       "  <thead>\n",
       "    <tr style=\"text-align: right;\">\n",
       "      <th></th>\n",
       "      <th>Марка</th>\n",
       "      <th>Модель</th>\n",
       "      <th>Год выпуска</th>\n",
       "      <th>Пробег</th>\n",
       "      <th>Тип кузова</th>\n",
       "      <th>Цвет</th>\n",
       "      <th>Объём двигателя</th>\n",
       "      <th>Количество дверей</th>\n",
       "      <th>Коробка передач</th>\n",
       "      <th>Тип двигателя</th>\n",
       "      <th>Привод</th>\n",
       "      <th>Руль</th>\n",
       "      <th>Состояние</th>\n",
       "      <th>Владельцев по ПТС</th>\n",
       "      <th>Мощность двигателя</th>\n",
       "      <th>Описание пользователя</th>\n",
       "      <th>Цена</th>\n",
       "    </tr>\n",
       "  </thead>\n",
       "  <tbody>\n",
       "    <tr>\n",
       "      <th>0</th>\n",
       "      <td>Volkswagen</td>\n",
       "      <td>Touareg</td>\n",
       "      <td>2012</td>\n",
       "      <td>70000</td>\n",
       "      <td>внедорожник</td>\n",
       "      <td>белый</td>\n",
       "      <td>3.6</td>\n",
       "      <td>5</td>\n",
       "      <td>автомат</td>\n",
       "      <td>бензин</td>\n",
       "      <td>полный</td>\n",
       "      <td>левый</td>\n",
       "      <td>не битый</td>\n",
       "      <td>1</td>\n",
       "      <td>249..</td>\n",
       "      <td>Не бит, не крашен. Один хозяин. Обслуживался у...</td>\n",
       "      <td>1770000</td>\n",
       "    </tr>\n",
       "  </tbody>\n",
       "</table>\n",
       "</div>"
      ],
      "text/plain": [
       "        Марка   Модель Год выпуска Пробег   Тип кузова   Цвет Объём двигателя  \\\n",
       "0  Volkswagen  Touareg        2012  70000  внедорожник  белый             3.6   \n",
       "\n",
       "  Количество дверей Коробка передач Тип двигателя  Привод   Руль Состояние  \\\n",
       "0                 5         автомат        бензин  полный  левый  не битый   \n",
       "\n",
       "  Владельцев по ПТС Мощность двигателя  \\\n",
       "0                 1              249..   \n",
       "\n",
       "                               Описание пользователя     Цена  \n",
       "0  Не бит, не крашен. Один хозяин. Обслуживался у...  1770000  "
      ]
     },
     "execution_count": 25,
     "metadata": {},
     "output_type": "execute_result"
    }
   ],
   "source": [
    "CarBase2"
   ]
  },
  {
   "cell_type": "code",
   "execution_count": 26,
   "metadata": {
    "collapsed": false
   },
   "outputs": [
    {
     "data": {
      "text/html": [
       "<div>\n",
       "<table border=\"1\" class=\"dataframe\">\n",
       "  <thead>\n",
       "    <tr style=\"text-align: right;\">\n",
       "      <th></th>\n",
       "      <th>Марка</th>\n",
       "      <th>Модель</th>\n",
       "      <th>Год выпуска</th>\n",
       "      <th>Пробег</th>\n",
       "      <th>Тип кузова</th>\n",
       "      <th>Цвет</th>\n",
       "      <th>Объём двигателя</th>\n",
       "      <th>Коробка передач</th>\n",
       "      <th>Тип двигателя</th>\n",
       "      <th>Привод</th>\n",
       "      <th>Руль</th>\n",
       "      <th>Состояние</th>\n",
       "      <th>Владельцев по ПТС</th>\n",
       "      <th>Мощность двигателя</th>\n",
       "      <th>Описание пользователя</th>\n",
       "      <th>Цена</th>\n",
       "    </tr>\n",
       "  </thead>\n",
       "  <tbody>\n",
       "    <tr>\n",
       "      <th>0</th>\n",
       "      <td>Geely</td>\n",
       "      <td>EmgrandEC7</td>\n",
       "      <td>2013</td>\n",
       "      <td>45000</td>\n",
       "      <td>хетчбэк</td>\n",
       "      <td>серебряный</td>\n",
       "      <td>1.5</td>\n",
       "      <td>механика</td>\n",
       "      <td>бензин</td>\n",
       "      <td>передний</td>\n",
       "      <td>левый</td>\n",
       "      <td>не битый</td>\n",
       "      <td>1</td>\n",
       "      <td>98..</td>\n",
       "      <td>Продается автомобиль Джили Эмгрант, 2013 г.в.,...</td>\n",
       "      <td>360000</td>\n",
       "    </tr>\n",
       "  </tbody>\n",
       "</table>\n",
       "</div>"
      ],
      "text/plain": [
       "   Марка      Модель Год выпуска Пробег Тип кузова        Цвет  \\\n",
       "0  Geely  EmgrandEC7        2013  45000    хетчбэк  серебряный   \n",
       "\n",
       "  Объём двигателя Коробка передач Тип двигателя    Привод   Руль Состояние  \\\n",
       "0             1.5        механика        бензин  передний  левый  не битый   \n",
       "\n",
       "  Владельцев по ПТС Мощность двигателя  \\\n",
       "0                 1               98..   \n",
       "\n",
       "                               Описание пользователя    Цена  \n",
       "0  Продается автомобиль Джили Эмгрант, 2013 г.в.,...  360000  "
      ]
     },
     "execution_count": 26,
     "metadata": {},
     "output_type": "execute_result"
    }
   ],
   "source": [
    "CarBase"
   ]
  },
  {
   "cell_type": "code",
   "execution_count": 27,
   "metadata": {
    "collapsed": true
   },
   "outputs": [],
   "source": [
    "result =  CarBase.append(CarBase2, ignore_index=True)"
   ]
  },
  {
   "cell_type": "code",
   "execution_count": 28,
   "metadata": {
    "collapsed": false
   },
   "outputs": [
    {
     "data": {
      "text/html": [
       "<div>\n",
       "<table border=\"1\" class=\"dataframe\">\n",
       "  <thead>\n",
       "    <tr style=\"text-align: right;\">\n",
       "      <th></th>\n",
       "      <th>Владельцев по ПТС</th>\n",
       "      <th>Год выпуска</th>\n",
       "      <th>Количество дверей</th>\n",
       "      <th>Коробка передач</th>\n",
       "      <th>Марка</th>\n",
       "      <th>Модель</th>\n",
       "      <th>Мощность двигателя</th>\n",
       "      <th>Объём двигателя</th>\n",
       "      <th>Описание пользователя</th>\n",
       "      <th>Привод</th>\n",
       "      <th>Пробег</th>\n",
       "      <th>Руль</th>\n",
       "      <th>Состояние</th>\n",
       "      <th>Тип двигателя</th>\n",
       "      <th>Тип кузова</th>\n",
       "      <th>Цвет</th>\n",
       "      <th>Цена</th>\n",
       "    </tr>\n",
       "  </thead>\n",
       "  <tbody>\n",
       "    <tr>\n",
       "      <th>0</th>\n",
       "      <td>1</td>\n",
       "      <td>2013</td>\n",
       "      <td>NaN</td>\n",
       "      <td>механика</td>\n",
       "      <td>Geely</td>\n",
       "      <td>EmgrandEC7</td>\n",
       "      <td>98..</td>\n",
       "      <td>1.5</td>\n",
       "      <td>Продается автомобиль Джили Эмгрант, 2013 г.в.,...</td>\n",
       "      <td>передний</td>\n",
       "      <td>45000</td>\n",
       "      <td>левый</td>\n",
       "      <td>не битый</td>\n",
       "      <td>бензин</td>\n",
       "      <td>хетчбэк</td>\n",
       "      <td>серебряный</td>\n",
       "      <td>360000</td>\n",
       "    </tr>\n",
       "    <tr>\n",
       "      <th>1</th>\n",
       "      <td>1</td>\n",
       "      <td>2012</td>\n",
       "      <td>5</td>\n",
       "      <td>автомат</td>\n",
       "      <td>Volkswagen</td>\n",
       "      <td>Touareg</td>\n",
       "      <td>249..</td>\n",
       "      <td>3.6</td>\n",
       "      <td>Не бит, не крашен. Один хозяин. Обслуживался у...</td>\n",
       "      <td>полный</td>\n",
       "      <td>70000</td>\n",
       "      <td>левый</td>\n",
       "      <td>не битый</td>\n",
       "      <td>бензин</td>\n",
       "      <td>внедорожник</td>\n",
       "      <td>белый</td>\n",
       "      <td>1770000</td>\n",
       "    </tr>\n",
       "  </tbody>\n",
       "</table>\n",
       "</div>"
      ],
      "text/plain": [
       "  Владельцев по ПТС Год выпуска Количество дверей Коробка передач       Марка  \\\n",
       "0                 1        2013               NaN        механика       Geely   \n",
       "1                 1        2012                 5         автомат  Volkswagen   \n",
       "\n",
       "       Модель Мощность двигателя Объём двигателя  \\\n",
       "0  EmgrandEC7               98..             1.5   \n",
       "1     Touareg              249..             3.6   \n",
       "\n",
       "                               Описание пользователя    Привод Пробег   Руль  \\\n",
       "0  Продается автомобиль Джили Эмгрант, 2013 г.в.,...  передний  45000  левый   \n",
       "1  Не бит, не крашен. Один хозяин. Обслуживался у...    полный  70000  левый   \n",
       "\n",
       "  Состояние Тип двигателя   Тип кузова        Цвет     Цена  \n",
       "0  не битый        бензин      хетчбэк  серебряный   360000  \n",
       "1  не битый        бензин  внедорожник       белый  1770000  "
      ]
     },
     "execution_count": 28,
     "metadata": {},
     "output_type": "execute_result"
    }
   ],
   "source": [
    "result"
   ]
  },
  {
   "cell_type": "code",
   "execution_count": 29,
   "metadata": {
    "collapsed": false
   },
   "outputs": [
    {
     "data": {
      "text/plain": [
       "1"
      ]
     },
     "execution_count": 29,
     "metadata": {},
     "output_type": "execute_result"
    }
   ],
   "source": [
    "len([0])"
   ]
  },
  {
   "cell_type": "code",
   "execution_count": null,
   "metadata": {
    "collapsed": true
   },
   "outputs": [],
   "source": []
  }
 ],
 "metadata": {
  "anaconda-cloud": {},
  "kernelspec": {
   "display_name": "Python [Root]",
   "language": "python",
   "name": "Python [Root]"
  },
  "language_info": {
   "codemirror_mode": {
    "name": "ipython",
    "version": 3
   },
   "file_extension": ".py",
   "mimetype": "text/x-python",
   "name": "python",
   "nbconvert_exporter": "python",
   "pygments_lexer": "ipython3",
   "version": "3.5.2"
  }
 },
 "nbformat": 4,
 "nbformat_minor": 0
}
