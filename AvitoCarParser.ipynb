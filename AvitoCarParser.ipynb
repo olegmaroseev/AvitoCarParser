{
 "cells": [
  {
   "cell_type": "code",
   "execution_count": 44,
   "metadata": {
    "collapsed": false
   },
   "outputs": [
    {
     "data": {
      "text/plain": [
       "[('Марка: ', ' Volkswagen\\n '),\n",
       " ('Модель: ', ' Polo\\n '),\n",
       " ('Год выпуска: ', ' 2014\\n '),\n",
       " ('Пробег: ', ' 62000\\xa0км\\n '),\n",
       " ('Тип кузова: ', ' седан\\n '),\n",
       " ('Цвет: ', ' серебряный\\n '),\n",
       " ('Объём двигателя: ', ' 1.6 л\\n '),\n",
       " ('Количество дверей: ', ' 4\\n '),\n",
       " ('Коробка передач: ', ' автомат\\n '),\n",
       " ('Тип двигателя: ', ' бензин\\n '),\n",
       " ('Привод: ', ' передний\\n '),\n",
       " ('Руль: ', ' левый\\n '),\n",
       " ('Состояние: ', ' не\\xa0битый\\n '),\n",
       " ('Владельцев по ПТС: ', ' 2\\n '),\n",
       " ('Мощность двигателя: ', ' 105 л. с.\\n ')]"
      ]
     },
     "execution_count": 44,
     "metadata": {},
     "output_type": "execute_result"
    }
   ],
   "source": [
    "from lxml import html\n",
    "import requests\n",
    "import time\n",
    "\n",
    "page = requests.get('https://www.avito.ru/rostov-na-donu/avtomobili/volkswagen_polo_2014_814722687')\n",
    "tree = html.fromstring(page.content)\n",
    "\n",
    "attributes = tree.xpath('//li[@class=\"item-params-list-item\"]/span/text()') \n",
    "values = tree.xpath('//li[@class=\"item-params-list-item\"]/text()')\n",
    "values2 = values[1::2]\n",
    "zipList = list(zip(attributes, values2))\n",
    "zipList"
   ]
  },
  {
   "cell_type": "code",
   "execution_count": 43,
   "metadata": {
    "collapsed": false
   },
   "outputs": [
    {
     "data": {
      "text/plain": [
       "['Комплектация:',\n",
       " 'Усилитель руля электроусилитель',\n",
       " 'Управление климатом кондиционер',\n",
       " 'управление на руле',\n",
       " 'Салон комбинированный ткань',\n",
       " 'Обогрев передних сидений',\n",
       " 'Электростеклоподъемники передние и задние',\n",
       " 'Электропривод зеркал, обогрев',\n",
       " 'Помощь при вождении датчик дождя, датчик света, парктроник задний',\n",
       " 'Противоугонная система сигнализация, центральный замок, иммобилайзер',\n",
       " 'Подушки безопасности фронтальные',\n",
       " 'Активная безопасность антиблокировочная система тормозов (ABS), система распределения тормозных усилий (EBD)',\n",
       " 'Мультимедиа и навигация MP3, радио, управление на руле, USB, AUX',\n",
       " 'Аудиосистема 4 колоноки Фары галогенные, противотуманные',\n",
       " 'Шины и диски стальные\"15\" 185/65\\xa0']"
      ]
     },
     "execution_count": 43,
     "metadata": {},
     "output_type": "execute_result"
    }
   ],
   "source": [
    "#описание машины от пользователя\n",
    "description = tree.xpath('//div[@class=\"item-description-text\"]/p/text()') \n",
    "description"
   ]
  },
  {
   "cell_type": "code",
   "execution_count": 21,
   "metadata": {
    "collapsed": false
   },
   "outputs": [
    {
     "data": {
      "text/plain": [
       "[('Марка: ', '\\n '),\n",
       " ('Модель: ', ' Hyundai\\n '),\n",
       " ('Год выпуска: ', '\\n '),\n",
       " ('Тип кузова: ', ' Solaris\\n '),\n",
       " ('Цвет: ', '\\n '),\n",
       " ('Объём двигателя: ', ' 2016\\n '),\n",
       " ('Коробка передач: ', '\\n '),\n",
       " ('Количество дверей: ', ' седан\\n '),\n",
       " ('Тип двигателя: ', '\\n '),\n",
       " ('Привод: ', ' серебряный\\n '),\n",
       " ('Руль: ', '\\n '),\n",
       " ('Мощность двигателя: ', ' 1.4 л\\n ')]"
      ]
     },
     "execution_count": 21,
     "metadata": {},
     "output_type": "execute_result"
    }
   ],
   "source": [
    "attributes = tree.xpath('//li[@class=\"item-description\"]/p/text()') "
   ]
  },
  {
   "cell_type": "code",
   "execution_count": null,
   "metadata": {
    "collapsed": true
   },
   "outputs": [],
   "source": []
  }
 ],
 "metadata": {
  "anaconda-cloud": {},
  "kernelspec": {
   "display_name": "Python [Root]",
   "language": "python",
   "name": "Python [Root]"
  },
  "language_info": {
   "codemirror_mode": {
    "name": "ipython",
    "version": 3
   },
   "file_extension": ".py",
   "mimetype": "text/x-python",
   "name": "python",
   "nbconvert_exporter": "python",
   "pygments_lexer": "ipython3",
   "version": "3.5.2"
  }
 },
 "nbformat": 4,
 "nbformat_minor": 0
}
